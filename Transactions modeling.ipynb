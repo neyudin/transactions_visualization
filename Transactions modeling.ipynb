{
 "cells": [
  {
   "cell_type": "markdown",
   "metadata": {
    "run_control": {
     "frozen": false,
     "read_only": false
    }
   },
   "source": [
    "# Моделирование синтетических транзакционных данных"
   ]
  },
  {
   "cell_type": "code",
   "execution_count": 1,
   "metadata": {
    "ExecuteTime": {
     "end_time": "2018-08-30T19:55:37.099452Z",
     "start_time": "2018-08-30T19:55:31.697733Z"
    },
    "run_control": {
     "frozen": false,
     "read_only": false
    }
   },
   "outputs": [
    {
     "name": "stdout",
     "output_type": "stream",
     "text": [
      "Populating the interactive namespace from numpy and matplotlib\n"
     ]
    },
    {
     "data": {
      "application/javascript": [
       "window.genUID = function() {\n",
       "    return 'xxxxxxxx-xxxx-4xxx-yxxx-xxxxxxxxxxxx'.replace(/[xy]/g, function(c) {\n",
       "        var r = Math.random()*16|0, v = c == 'x' ? r : (r&0x3|0x8);\n",
       "        return v.toString(16);\n",
       "    });\n",
       "};\n",
       "\n",
       "\n",
       "define('graphWidget', [\"@jupyter-widgets/base\"], function (widget) {\n",
       "\n",
       "    var GraphView = widget.DOMWidgetView.extend({\n",
       "        render: function(){\n",
       "            var that = this;\n",
       "\n",
       "            var graphId = window.genUID();\n",
       "            var loadingId = 'loading-'+graphId;\n",
       "\n",
       "\n",
       "            var _graph_url = that.model.get('_graph_url');\n",
       "\n",
       "            // variable plotlyDomain in the case of enterprise\n",
       "            var url_parts = _graph_url.split('/');\n",
       "            var plotlyDomain = url_parts[0] + '//' + url_parts[2];\n",
       "\n",
       "            if(!('plotlyDomains' in window)){\n",
       "                window.plotlyDomains = {};\n",
       "            }\n",
       "            window.plotlyDomains[graphId] = plotlyDomain;\n",
       "\n",
       "            // Place IFrame in output cell div `$el`\n",
       "            that.$el.css('width', '100%');\n",
       "            that.$graph = $(['<iframe id=\"'+graphId+'\"',\n",
       "                             'src=\"'+_graph_url+'.embed\"',\n",
       "                             'seamless',\n",
       "                             'style=\"border: none;\"',\n",
       "                             'width=\"100%\"',\n",
       "                             'height=\"600\">',\n",
       "                             '</iframe>'].join(' '));\n",
       "            that.$graph.appendTo(that.$el);\n",
       "\n",
       "            that.$loading = $('<div id=\"'+loadingId+'\">Initializing...</div>')\n",
       "                            .appendTo(that.$el);\n",
       "\n",
       "            // for some reason the 'width' is being changed in IPython 3.0.0\n",
       "            // for the containing `div` element. There's a flicker here, but\n",
       "            // I was unable to fix it otherwise.\n",
       "            setTimeout(function ()  {\n",
       "                if (IPYTHON_VERSION === '3') {\n",
       "                    $('#' + graphId)[0].parentElement.style.width = '100%';\n",
       "                }\n",
       "            }, 500);\n",
       "\n",
       "            // initialize communication with the iframe\n",
       "            if(!('pingers' in window)){\n",
       "                window.pingers = {};\n",
       "            }\n",
       "\n",
       "            window.pingers[graphId] = setInterval(function() {\n",
       "                that.graphContentWindow = $('#'+graphId)[0].contentWindow;\n",
       "                that.graphContentWindow.postMessage({task: 'ping'}, plotlyDomain);\n",
       "            }, 200);\n",
       "\n",
       "            // Assign a message listener to the 'message' events\n",
       "            // from iframe's postMessage protocol.\n",
       "            // Filter the messages by iframe src so that the right message\n",
       "            // gets passed to the right widget\n",
       "            if(!('messageListeners' in window)){\n",
       "                 window.messageListeners = {};\n",
       "            }\n",
       "\n",
       "            window.messageListeners[graphId] = function(e) {\n",
       "                if(_graph_url.indexOf(e.origin)>-1) {\n",
       "                    var frame = document.getElementById(graphId);\n",
       "\n",
       "                    if(frame === null){\n",
       "                        // frame doesn't exist in the dom anymore, clean up it's old event listener\n",
       "                        window.removeEventListener('message', window.messageListeners[graphId]);\n",
       "                        clearInterval(window.pingers[graphId]);\n",
       "                    } else if(frame.contentWindow === e.source) {\n",
       "                        // TODO: Stop event propagation, so each frame doesn't listen and filter\n",
       "                        var frameContentWindow = $('#'+graphId)[0].contentWindow;\n",
       "                        var message = e.data;\n",
       "\n",
       "                        if('pong' in message && message.pong) {\n",
       "                            $('#loading-'+graphId).hide();\n",
       "                            clearInterval(window.pingers[graphId]);\n",
       "                            that.send({event: 'pong', graphId: graphId});\n",
       "                        } else if (message.type==='hover' ||\n",
       "                                   message.type==='zoom'  ||\n",
       "                                   message.type==='click' ||\n",
       "                                   message.type==='unhover') {\n",
       "\n",
       "                            // click and hover events contain all of the data in the traces,\n",
       "                            // which can be a very large object and may take a ton of time\n",
       "                            // to pass to the python backend. Strip out the data, and require\n",
       "                            // the user to call get_figure if they need trace information\n",
       "                            if(message.type !== 'zoom') {\n",
       "                                for(var i in message.points) {\n",
       "                                    delete message.points[i].data;\n",
       "                                    delete message.points[i].fullData;\n",
       "                                }\n",
       "                            }\n",
       "                            that.send({event: message.type, message: message, graphId: graphId});\n",
       "                        } else if (message.task === 'getAttributes') {\n",
       "                            that.send({event: 'getAttributes', response: message.response});\n",
       "                        }\n",
       "                    }\n",
       "                }\n",
       "            };\n",
       "\n",
       "            window.removeEventListener('message', window.messageListeners[graphId]);\n",
       "            window.addEventListener('message', window.messageListeners[graphId]);\n",
       "\n",
       "        },\n",
       "\n",
       "        update: function() {\n",
       "            // Listen for messages from the graph widget in python\n",
       "            var jmessage = this.model.get('_message');\n",
       "            var message = JSON.parse(jmessage);\n",
       "\n",
       "            // check for duplicate messages\n",
       "            if(!('messageIds' in window)){\n",
       "                window.messageIds = {};\n",
       "            }\n",
       "\n",
       "            if(!(message.uid in window.messageIds)){\n",
       "                // message hasn't been received yet, do stuff\n",
       "                window.messageIds[message.uid] = true;\n",
       "\n",
       "                if (message.fadeTo) {\n",
       "                    this.fadeTo(message);\n",
       "                } else {\n",
       "                    var plot = $('#' + message.graphId)[0].contentWindow;\n",
       "                    plot.postMessage(message, window.plotlyDomains[message.graphId]);\n",
       "                }\n",
       "            }\n",
       "\n",
       "            return GraphView.__super__.update.apply(this);\n",
       "        },\n",
       "\n",
       "        /**\n",
       "         * Wrapper for jquery's `fadeTo` function.\n",
       "         *\n",
       "         * @param message Contains the id we need to find the element.\n",
       "         */\n",
       "        fadeTo: function (message) {\n",
       "            var plot = $('#' + message.graphId);\n",
       "            plot.fadeTo(message.duration, message.opacity);\n",
       "        }\n",
       "    });\n",
       "\n",
       "    // Register the GraphView with the widget manager.\n",
       "    return {\n",
       "        GraphView: GraphView\n",
       "    }\n",
       "\n",
       "});\n",
       "\n",
       "//@ sourceURL=graphWidget.js\n"
      ],
      "text/plain": [
       "<IPython.core.display.Javascript object>"
      ]
     },
     "metadata": {},
     "output_type": "display_data"
    }
   ],
   "source": [
    "import numpy as np\n",
    "import pandas as pd\n",
    "import matplotlib as mpl\n",
    "import matplotlib.pyplot as plt\n",
    "import pickle as pkl\n",
    "%pylab inline\n",
    "figsize(12, 9)\n",
    "plt.rc('text', usetex=False)\n",
    "plt.rc('xtick', labelsize=14) \n",
    "plt.rc('ytick', labelsize=14)\n",
    "from matplotlib import rc\n",
    "font = {'weight': 'normal', 'size': 16}\n",
    "rc('font', **font)\n",
    "from tqdm import tnrange, tqdm_notebook, tqdm\n",
    "from ipywidgets import widgets\n",
    "from IPython.display import display\n",
    "from plotly.widgets import GraphWidget\n",
    "import os\n",
    "import sys\n",
    "import artm\n",
    "import plotly.graph_objs as go\n",
    "from plotly.offline import download_plotlyjs, init_notebook_mode, plot, iplot\n",
    "import dash\n",
    "import dash_core_components as dcc\n",
    "import dash_html_components as html\n",
    "import base64\n",
    "import datetime\n",
    "import io\n",
    "from dash.dependencies import Input, Output\n",
    "from sklearn.manifold import MDS\n",
    "from scipy.stats import wasserstein_distance"
   ]
  },
  {
   "cell_type": "markdown",
   "metadata": {
    "run_control": {
     "frozen": false,
     "read_only": false
    }
   },
   "source": [
    "Использованная в задании выборка была получена в результате работы симулятора банковских транзакций BankSim. Подробнее о данной системе можно прочитать в статье <a href=\"https://www.researchgate.net/publication/265736405_BankSim_A_Bank_Payment_Simulation_for_Fraud_Detection_Research\" target=\"_blank\">BankSim: A Bank Payment Simulation for Fraud Detection Research</a>. Выборка доступна по <a href=\"https://www.kaggle.com/ntnu-testimon/banksim1/downloads/synthetic-data-from-a-financial-payment-system.zip/1\" target=\"_blank\"> ссылке </a>. BankSim представляет собой мультиагентный симулятор банковских транзакций, основанный на примере агрегированных транзакционных данных, представленных существующим банком. Основное предназначение BankSim состоит в порождении синтетических данных для исследования в области распознавания мошенничества."
   ]
  },
  {
   "cell_type": "markdown",
   "metadata": {
    "run_control": {
     "frozen": false,
     "read_only": false
    }
   },
   "source": [
    "В следующем файле содержится выборка из 594643 транзакций:"
   ]
  },
  {
   "cell_type": "code",
   "execution_count": 2,
   "metadata": {
    "ExecuteTime": {
     "end_time": "2018-08-30T19:55:38.141636Z",
     "start_time": "2018-08-30T19:55:37.101650Z"
    },
    "run_control": {
     "frozen": false,
     "read_only": false
    }
   },
   "outputs": [],
   "source": [
    "transactions = pd.read_csv('bs140513_032310.csv')"
   ]
  },
  {
   "cell_type": "markdown",
   "metadata": {
    "run_control": {
     "frozen": false,
     "read_only": false
    }
   },
   "source": [
    "Каждая транзакция описывается следующим набором переменных: \n",
    "* <b>step</b> &mdash; описывает номер дня симуляции;\n",
    "* <b>customer</b> &mdash; кодовое имя клиента;\n",
    "* <b>age</b> &mdash; возрастная категория клиента;\n",
    "* <b>gender</b> &mdash; пол клиента;\n",
    "* <b>zipcodeOri</b> &mdash; почтовый код клиента;\n",
    "* <b>merchant</b> &mdash; кодовое имя мерчанта;\n",
    "* <b>zipMerchant</b> &mdash; почтовый код мерчанта;\n",
    "* <b>category</b> &mdash; категория транзакции, аналог MCC;\n",
    "* <b>amount</b> &mdash; объём транзакции в условных единицах;\n",
    "* <b>fraud</b> &mdash; индикатор мошеннической транзакции (0 &mdash; обычная транзакция, 1 &mdash; мошенническая транзакция)"
   ]
  },
  {
   "cell_type": "code",
   "execution_count": 3,
   "metadata": {
    "ExecuteTime": {
     "end_time": "2018-08-30T19:55:38.165833Z",
     "start_time": "2018-08-30T19:55:38.143403Z"
    },
    "run_control": {
     "frozen": false,
     "read_only": false
    }
   },
   "outputs": [
    {
     "data": {
      "text/html": [
       "<div>\n",
       "<table border=\"1\" class=\"dataframe\">\n",
       "  <thead>\n",
       "    <tr style=\"text-align: right;\">\n",
       "      <th></th>\n",
       "      <th>step</th>\n",
       "      <th>customer</th>\n",
       "      <th>age</th>\n",
       "      <th>gender</th>\n",
       "      <th>zipcodeOri</th>\n",
       "      <th>merchant</th>\n",
       "      <th>zipMerchant</th>\n",
       "      <th>category</th>\n",
       "      <th>amount</th>\n",
       "      <th>fraud</th>\n",
       "    </tr>\n",
       "  </thead>\n",
       "  <tbody>\n",
       "    <tr>\n",
       "      <th>0</th>\n",
       "      <td>0</td>\n",
       "      <td>'C1093826151'</td>\n",
       "      <td>'4'</td>\n",
       "      <td>'M'</td>\n",
       "      <td>'28007'</td>\n",
       "      <td>'M348934600'</td>\n",
       "      <td>'28007'</td>\n",
       "      <td>'es_transportation'</td>\n",
       "      <td>4.55</td>\n",
       "      <td>0</td>\n",
       "    </tr>\n",
       "    <tr>\n",
       "      <th>1</th>\n",
       "      <td>0</td>\n",
       "      <td>'C352968107'</td>\n",
       "      <td>'2'</td>\n",
       "      <td>'M'</td>\n",
       "      <td>'28007'</td>\n",
       "      <td>'M348934600'</td>\n",
       "      <td>'28007'</td>\n",
       "      <td>'es_transportation'</td>\n",
       "      <td>39.68</td>\n",
       "      <td>0</td>\n",
       "    </tr>\n",
       "    <tr>\n",
       "      <th>2</th>\n",
       "      <td>0</td>\n",
       "      <td>'C2054744914'</td>\n",
       "      <td>'4'</td>\n",
       "      <td>'F'</td>\n",
       "      <td>'28007'</td>\n",
       "      <td>'M1823072687'</td>\n",
       "      <td>'28007'</td>\n",
       "      <td>'es_transportation'</td>\n",
       "      <td>26.89</td>\n",
       "      <td>0</td>\n",
       "    </tr>\n",
       "    <tr>\n",
       "      <th>3</th>\n",
       "      <td>0</td>\n",
       "      <td>'C1760612790'</td>\n",
       "      <td>'3'</td>\n",
       "      <td>'M'</td>\n",
       "      <td>'28007'</td>\n",
       "      <td>'M348934600'</td>\n",
       "      <td>'28007'</td>\n",
       "      <td>'es_transportation'</td>\n",
       "      <td>17.25</td>\n",
       "      <td>0</td>\n",
       "    </tr>\n",
       "    <tr>\n",
       "      <th>4</th>\n",
       "      <td>0</td>\n",
       "      <td>'C757503768'</td>\n",
       "      <td>'5'</td>\n",
       "      <td>'M'</td>\n",
       "      <td>'28007'</td>\n",
       "      <td>'M348934600'</td>\n",
       "      <td>'28007'</td>\n",
       "      <td>'es_transportation'</td>\n",
       "      <td>35.72</td>\n",
       "      <td>0</td>\n",
       "    </tr>\n",
       "  </tbody>\n",
       "</table>\n",
       "</div>"
      ],
      "text/plain": [
       "   step       customer  age gender zipcodeOri       merchant zipMerchant  \\\n",
       "0     0  'C1093826151'  '4'    'M'    '28007'   'M348934600'     '28007'   \n",
       "1     0   'C352968107'  '2'    'M'    '28007'   'M348934600'     '28007'   \n",
       "2     0  'C2054744914'  '4'    'F'    '28007'  'M1823072687'     '28007'   \n",
       "3     0  'C1760612790'  '3'    'M'    '28007'   'M348934600'     '28007'   \n",
       "4     0   'C757503768'  '5'    'M'    '28007'   'M348934600'     '28007'   \n",
       "\n",
       "              category  amount  fraud  \n",
       "0  'es_transportation'    4.55      0  \n",
       "1  'es_transportation'   39.68      0  \n",
       "2  'es_transportation'   26.89      0  \n",
       "3  'es_transportation'   17.25      0  \n",
       "4  'es_transportation'   35.72      0  "
      ]
     },
     "execution_count": 3,
     "metadata": {},
     "output_type": "execute_result"
    }
   ],
   "source": [
    "transactions.head()"
   ]
  },
  {
   "cell_type": "markdown",
   "metadata": {
    "run_control": {
     "frozen": false,
     "read_only": false
    }
   },
   "source": [
    "Дополнительная информация о выборке:"
   ]
  },
  {
   "cell_type": "code",
   "execution_count": 4,
   "metadata": {
    "ExecuteTime": {
     "end_time": "2018-08-30T19:55:38.490311Z",
     "start_time": "2018-08-30T19:55:38.167919Z"
    },
    "run_control": {
     "frozen": false,
     "read_only": false
    }
   },
   "outputs": [
    {
     "data": {
      "text/html": [
       "<div>\n",
       "<table border=\"1\" class=\"dataframe\">\n",
       "  <thead>\n",
       "    <tr style=\"text-align: right;\">\n",
       "      <th></th>\n",
       "      <th>значение</th>\n",
       "    </tr>\n",
       "  </thead>\n",
       "  <tbody>\n",
       "    <tr>\n",
       "      <th>zipcode в транзакциях</th>\n",
       "      <td>'28007'</td>\n",
       "    </tr>\n",
       "    <tr>\n",
       "      <th>Временной промежуток записи в днях</th>\n",
       "      <td>180</td>\n",
       "    </tr>\n",
       "    <tr>\n",
       "      <th>Количество категорий транзакций</th>\n",
       "      <td>15</td>\n",
       "    </tr>\n",
       "    <tr>\n",
       "      <th>Количество клиентов</th>\n",
       "      <td>4112</td>\n",
       "    </tr>\n",
       "    <tr>\n",
       "      <th>Количество мерчантов</th>\n",
       "      <td>50</td>\n",
       "    </tr>\n",
       "    <tr>\n",
       "      <th>Число значений категории возраст</th>\n",
       "      <td>8</td>\n",
       "    </tr>\n",
       "    <tr>\n",
       "      <th>Число значений поля gender</th>\n",
       "      <td>4</td>\n",
       "    </tr>\n",
       "    <tr>\n",
       "      <th>Число транзакций</th>\n",
       "      <td>594643</td>\n",
       "    </tr>\n",
       "  </tbody>\n",
       "</table>\n",
       "</div>"
      ],
      "text/plain": [
       "                                   значение\n",
       "zipcode в транзакциях               '28007'\n",
       "Временной промежуток записи в днях      180\n",
       "Количество категорий транзакций          15\n",
       "Количество клиентов                    4112\n",
       "Количество мерчантов                     50\n",
       "Число значений категории возраст          8\n",
       "Число значений поля gender                4\n",
       "Число транзакций                     594643"
      ]
     },
     "execution_count": 4,
     "metadata": {},
     "output_type": "execute_result"
    }
   ],
   "source": [
    "pd.DataFrame({'Число транзакций': [transactions.shape[0]],\n",
    "              'Временной промежуток записи в днях': [transactions.step.unique().shape[0]],\n",
    "              'Количество клиентов': [transactions.customer.unique().shape[0]],\n",
    "              'zipcode в транзакциях': [transactions.zipcodeOri.unique()[0]],\n",
    "              'Количество мерчантов': [transactions.merchant.unique().shape[0]],\n",
    "              'Количество категорий транзакций': [transactions.category.unique().shape[0]],\n",
    "              'Число значений поля gender': [transactions.gender.unique().shape[0]],\n",
    "              'Число значений категории возраст': [transactions.age.unique().shape[0]]\n",
    "             }, index=['значение']).T"
   ]
  },
  {
   "cell_type": "markdown",
   "metadata": {
    "run_control": {
     "frozen": false,
     "read_only": false
    }
   },
   "source": [
    "В рамках тематического моделирования транзакции одного клиента формируют один документ:"
   ]
  },
  {
   "cell_type": "code",
   "execution_count": 5,
   "metadata": {
    "ExecuteTime": {
     "end_time": "2018-08-30T22:12:04.787754Z",
     "start_time": "2018-08-30T22:12:04.779402Z"
    },
    "run_control": {
     "frozen": false,
     "read_only": false
    }
   },
   "outputs": [],
   "source": [
    "grouped_transactions = transactions.groupby('customer')"
   ]
  },
  {
   "cell_type": "markdown",
   "metadata": {
    "run_control": {
     "frozen": false,
     "read_only": false
    }
   },
   "source": [
    "Вводится соответствие между клиентом и числом совершённых им транзакций:"
   ]
  },
  {
   "cell_type": "code",
   "execution_count": 6,
   "metadata": {
    "ExecuteTime": {
     "end_time": "2018-08-30T22:12:05.826616Z",
     "start_time": "2018-08-30T22:12:05.662488Z"
    },
    "run_control": {
     "frozen": false,
     "read_only": false
    }
   },
   "outputs": [],
   "source": [
    "customers_trans_num = {}\n",
    "for customer, indexer in grouped_transactions.groups.items():\n",
    "    customers_trans_num[customer] = indexer.shape[0]"
   ]
  },
  {
   "cell_type": "markdown",
   "metadata": {
    "run_control": {
     "frozen": false,
     "read_only": false
    }
   },
   "source": [
    "За 180 дней среднее число совершённых транзакций у клиента близко к 145:"
   ]
  },
  {
   "cell_type": "code",
   "execution_count": 10,
   "metadata": {
    "ExecuteTime": {
     "end_time": "2018-08-30T22:13:32.278863Z",
     "start_time": "2018-08-30T22:13:32.269827Z"
    },
    "run_control": {
     "frozen": false,
     "read_only": false
    }
   },
   "outputs": [
    {
     "data": {
      "text/plain": [
       "144.61162451361866"
      ]
     },
     "execution_count": 10,
     "metadata": {},
     "output_type": "execute_result"
    }
   ],
   "source": [
    "np.mean(list(customers_trans_num.values()))"
   ]
  },
  {
   "cell_type": "markdown",
   "metadata": {
    "run_control": {
     "frozen": false,
     "read_only": false
    }
   },
   "source": [
    "Выявление распределения количества транзакций у клиента в выборке:"
   ]
  },
  {
   "cell_type": "code",
   "execution_count": 7,
   "metadata": {
    "ExecuteTime": {
     "end_time": "2018-08-30T22:12:11.588811Z",
     "start_time": "2018-08-30T22:12:11.022990Z"
    },
    "run_control": {
     "frozen": false,
     "read_only": false
    }
   },
   "outputs": [
    {
     "data": {
      "image/png": "[encoded data removed]",
      "text/plain": [
       "<matplotlib.figure.Figure at 0x7f89e3b0d160>"
      ]
     },
     "metadata": {},
     "output_type": "display_data"
    },
    {
     "data": {
      "image/png": "[encoded data removed]",
      "text/plain": [
       "<matplotlib.figure.Figure at 0x7f89e3c0d828>"
      ]
     },
     "metadata": {},
     "output_type": "display_data"
    }
   ],
   "source": [
    "plt.figure(figsize=(12, 8))\n",
    "plt.title('Количество клиентов с определённым числом транзакций')\n",
    "plt.xlabel(r'Количество транзакций')\n",
    "plt.ylabel(r'Количество клиентов')\n",
    "plt.axis([5, 265, 0, 166])\n",
    "x, y = np.unique(list(customers_trans_num.values()), return_counts=True)\n",
    "plt.scatter(x, y, c='red', linewidth=4, marker='*', s=44)\n",
    "plt.legend(loc=2)\n",
    "plt.show()\n",
    "\n",
    "plt.figure(figsize=(12, 8))\n",
    "plt.title('Количество клиентов с определённым числом транзакций')\n",
    "plt.xlabel(r'Количество транзакций')\n",
    "plt.ylabel(r'Количество клиентов')\n",
    "plt.axis([5, 265, 3, 4112])\n",
    "plt.plot(x, y.cumsum(), c='red', label=r'Кумулятивный график',linewidth=4, marker='*', markersize=14)\n",
    "plt.legend(loc=2)\n",
    "plt.show()"
   ]
  },
  {
   "cell_type": "markdown",
   "metadata": {
    "run_control": {
     "frozen": false,
     "read_only": false
    }
   },
   "source": [
    "Вводится соответствие между категорией транзакции и индексом для подготовки выборки к моделированию:"
   ]
  },
  {
   "cell_type": "code",
   "execution_count": 8,
   "metadata": {
    "ExecuteTime": {
     "end_time": "2018-08-30T03:13:42.558464Z",
     "start_time": "2018-08-30T03:13:42.514219Z"
    },
    "run_control": {
     "frozen": false,
     "read_only": false
    }
   },
   "outputs": [],
   "source": [
    "category_mapping = {}\n",
    "transactions_category = transactions.category.unique()\n",
    "for idx, cat in enumerate(np.sort(transactions_category)):\n",
    "    category_mapping[cat] = idx"
   ]
  },
  {
   "cell_type": "markdown",
   "metadata": {
    "run_control": {
     "frozen": false,
     "read_only": false
    }
   },
   "source": [
    "Вводится соответствие между клиентом и индексом для подготовки выборки к моделированию:"
   ]
  },
  {
   "cell_type": "code",
   "execution_count": 9,
   "metadata": {
    "ExecuteTime": {
     "end_time": "2018-08-30T03:13:42.712338Z",
     "start_time": "2018-08-30T03:13:42.561271Z"
    },
    "run_control": {
     "frozen": false,
     "read_only": false
    }
   },
   "outputs": [],
   "source": [
    "customer_mapping = {}\n",
    "transactions_customer = transactions.customer.unique()\n",
    "for idx, customer in enumerate(np.sort(transactions_customer)):\n",
    "    customer_mapping[customer] = idx"
   ]
  },
  {
   "cell_type": "markdown",
   "metadata": {
    "run_control": {
     "frozen": false,
     "read_only": false
    }
   },
   "source": [
    "Подготовка матрицы токены-документы:"
   ]
  },
  {
   "cell_type": "code",
   "execution_count": 10,
   "metadata": {
    "ExecuteTime": {
     "end_time": "2018-08-30T03:13:42.790813Z",
     "start_time": "2018-08-30T03:13:42.713988Z"
    },
    "run_control": {
     "frozen": false,
     "read_only": false
    }
   },
   "outputs": [],
   "source": [
    "category_num = transactions_category.shape[0]\n",
    "customer_num = transactions_customer.shape[0]"
   ]
  },
  {
   "cell_type": "markdown",
   "metadata": {
    "run_control": {
     "frozen": false,
     "read_only": false
    }
   },
   "source": [
    "Категории транзакций в модели являются токенами:"
   ]
  },
  {
   "cell_type": "code",
   "execution_count": 11,
   "metadata": {
    "ExecuteTime": {
     "end_time": "2018-08-30T03:17:39.209424Z",
     "start_time": "2018-08-30T03:14:32.094734Z"
    },
    "run_control": {
     "frozen": false,
     "read_only": false
    }
   },
   "outputs": [],
   "source": [
    "cat_cus_matrix = np.zeros((category_num, customer_num), dtype=np.int64)\n",
    "for row in transactions.index:\n",
    "    cat_cus_matrix[category_mapping[transactions.loc[row, 'category']],\n",
    "                   customer_mapping[transactions.loc[row, 'customer']]] += 1"
   ]
  },
  {
   "cell_type": "markdown",
   "metadata": {
    "run_control": {
     "frozen": false,
     "read_only": false
    }
   },
   "source": [
    "Подготовка словаря выборки для инициализации bigARTM:"
   ]
  },
  {
   "cell_type": "code",
   "execution_count": 12,
   "metadata": {
    "ExecuteTime": {
     "end_time": "2018-08-30T03:17:39.215457Z",
     "start_time": "2018-08-30T03:17:39.211759Z"
    },
    "run_control": {
     "frozen": false,
     "read_only": false
    }
   },
   "outputs": [],
   "source": [
    "vocabulary = {}\n",
    "for key, val in category_mapping.items():\n",
    "    vocabulary[val] = key"
   ]
  },
  {
   "cell_type": "markdown",
   "metadata": {
    "run_control": {
     "frozen": false,
     "read_only": false
    }
   },
   "source": [
    "Разделение матрицы токены-документы на подвыборки для настройки тематической модели:"
   ]
  },
  {
   "cell_type": "code",
   "execution_count": 13,
   "metadata": {
    "ExecuteTime": {
     "end_time": "2018-08-30T03:17:39.780963Z",
     "start_time": "2018-08-30T03:17:39.217658Z"
    },
    "run_control": {
     "frozen": false,
     "read_only": false
    }
   },
   "outputs": [],
   "source": [
    "bv = artm.BatchVectorizer(data_format='bow_n_wd',\n",
    "                          n_wd=cat_cus_matrix,\n",
    "                          vocabulary=vocabulary)"
   ]
  },
  {
   "cell_type": "markdown",
   "metadata": {
    "run_control": {
     "frozen": false,
     "read_only": false
    }
   },
   "source": [
    "Количество предметных и фоновых тем было определено с помощью процедуры кросс-валидации на сетке из возможных значений количества предметных и фоновых тем с отложенной выборкой, составляющей 35% от всего объёма выборки. При фиксированном количестве тем в результате аналогичной процедуры кросс-валидации были определены коэффициенты при выбранных заранее регуляризаторах. Качество модели в процедуре кросс-валидации оценивалось по перплексии:"
   ]
  },
  {
   "cell_type": "code",
   "execution_count": 14,
   "metadata": {
    "ExecuteTime": {
     "end_time": "2018-08-30T03:17:39.794688Z",
     "start_time": "2018-08-30T03:17:39.783307Z"
    },
    "run_control": {
     "frozen": false,
     "read_only": false
    }
   },
   "outputs": [],
   "source": [
    "num_topics = 10\n",
    "num_back = 4\n",
    "topic_names = ['topic_{}'.format(i) for i in range(num_topics)]\n",
    "model_artm = artm.ARTM(topic_names=topic_names, cache_theta=True,\n",
    "                       scores=[artm.PerplexityScore(name='PerplexityScore', dictionary=bv.dictionary)],\n",
    "                       regularizers=[artm.SmoothSparseThetaRegularizer(name='ThetaRegularizer', tau=-0.1),\n",
    "                                     artm.SmoothSparsePhiRegularizer(name='PhiRegularizerSparse', tau=-10.5,\n",
    "                                                                     topic_names=[\\\n",
    "                                          'topic_{}'.format(i) for i in range(num_topics - num_back)]),\n",
    "                                     artm.SmoothSparsePhiRegularizer(name='PhiRegularizerSmooth', tau=0.5,\n",
    "                                                                     topic_names=[\\\n",
    "                                          'topic_{}'.format(i) for i in range(num_topics - num_back, num_topics)]),\n",
    "                                     artm.DecorrelatorPhiRegularizer(name='DecorrelatorPhiSubject', tau=3000,\n",
    "                                                                     topic_names=[\\\n",
    "                                          'topic_{}'.format(i) for i in range(num_topics - num_back)]),\n",
    "                                     artm.DecorrelatorPhiRegularizer(name='DecorrelatorPhiBackground', tau=3000,\n",
    "                                                                     topic_names=[\\\n",
    "                                          'topic_{}'.format(i) for i in range(num_topics - num_back, num_topics)])])"
   ]
  },
  {
   "cell_type": "markdown",
   "metadata": {
    "run_control": {
     "frozen": false,
     "read_only": false
    }
   },
   "source": [
    "Инициализация модели и настройка параметров BigARTM:"
   ]
  },
  {
   "cell_type": "code",
   "execution_count": 15,
   "metadata": {
    "ExecuteTime": {
     "end_time": "2018-08-30T03:17:41.107933Z",
     "start_time": "2018-08-30T03:17:39.796525Z"
    },
    "run_control": {
     "frozen": false,
     "read_only": false
    }
   },
   "outputs": [],
   "source": [
    "model_artm.initialize(dictionary=bv.dictionary)\n",
    "model_artm.fit_offline(bv, num_collection_passes=60)"
   ]
  },
  {
   "cell_type": "markdown",
   "metadata": {
    "run_control": {
     "frozen": false,
     "read_only": false
    }
   },
   "source": [
    "Настроенная матрица токены-темы:"
   ]
  },
  {
   "cell_type": "code",
   "execution_count": 16,
   "metadata": {
    "ExecuteTime": {
     "end_time": "2018-08-30T03:17:41.129618Z",
     "start_time": "2018-08-30T03:17:41.109785Z"
    },
    "run_control": {
     "frozen": false,
     "read_only": false
    }
   },
   "outputs": [
    {
     "data": {
      "text/html": [
       "<div>\n",
       "<table border=\"1\" class=\"dataframe\">\n",
       "  <thead>\n",
       "    <tr style=\"text-align: right;\">\n",
       "      <th></th>\n",
       "      <th>topic_0</th>\n",
       "      <th>topic_1</th>\n",
       "      <th>topic_2</th>\n",
       "      <th>topic_3</th>\n",
       "      <th>topic_4</th>\n",
       "      <th>topic_5</th>\n",
       "      <th>topic_6</th>\n",
       "      <th>topic_7</th>\n",
       "      <th>topic_8</th>\n",
       "      <th>topic_9</th>\n",
       "    </tr>\n",
       "  </thead>\n",
       "  <tbody>\n",
       "    <tr>\n",
       "      <th>'es_otherservices'</th>\n",
       "      <td>0.000000</td>\n",
       "      <td>0.0</td>\n",
       "      <td>0.0</td>\n",
       "      <td>0.000000</td>\n",
       "      <td>0.000000</td>\n",
       "      <td>0.0</td>\n",
       "      <td>0.000006</td>\n",
       "      <td>0.000191</td>\n",
       "      <td>0.244352</td>\n",
       "      <td>0.000098</td>\n",
       "    </tr>\n",
       "    <tr>\n",
       "      <th>'es_transportation'</th>\n",
       "      <td>0.941652</td>\n",
       "      <td>1.0</td>\n",
       "      <td>0.0</td>\n",
       "      <td>0.902523</td>\n",
       "      <td>0.891067</td>\n",
       "      <td>0.0</td>\n",
       "      <td>0.782655</td>\n",
       "      <td>0.000158</td>\n",
       "      <td>0.000174</td>\n",
       "      <td>0.000168</td>\n",
       "    </tr>\n",
       "    <tr>\n",
       "      <th>'es_contents'</th>\n",
       "      <td>0.000000</td>\n",
       "      <td>0.0</td>\n",
       "      <td>0.0</td>\n",
       "      <td>0.000000</td>\n",
       "      <td>0.009726</td>\n",
       "      <td>0.0</td>\n",
       "      <td>0.000064</td>\n",
       "      <td>0.000182</td>\n",
       "      <td>0.000270</td>\n",
       "      <td>0.000134</td>\n",
       "    </tr>\n",
       "    <tr>\n",
       "      <th>'es_hyper'</th>\n",
       "      <td>0.000000</td>\n",
       "      <td>0.0</td>\n",
       "      <td>1.0</td>\n",
       "      <td>0.000000</td>\n",
       "      <td>0.000000</td>\n",
       "      <td>0.0</td>\n",
       "      <td>0.000014</td>\n",
       "      <td>0.000488</td>\n",
       "      <td>0.000699</td>\n",
       "      <td>0.000262</td>\n",
       "    </tr>\n",
       "    <tr>\n",
       "      <th>'es_barsandrestaurants'</th>\n",
       "      <td>0.000000</td>\n",
       "      <td>0.0</td>\n",
       "      <td>0.0</td>\n",
       "      <td>0.065590</td>\n",
       "      <td>0.000000</td>\n",
       "      <td>0.0</td>\n",
       "      <td>0.000009</td>\n",
       "      <td>0.012670</td>\n",
       "      <td>0.009304</td>\n",
       "      <td>0.000400</td>\n",
       "    </tr>\n",
       "    <tr>\n",
       "      <th>'es_wellnessandbeauty'</th>\n",
       "      <td>0.038280</td>\n",
       "      <td>0.0</td>\n",
       "      <td>0.0</td>\n",
       "      <td>0.023292</td>\n",
       "      <td>0.000000</td>\n",
       "      <td>0.0</td>\n",
       "      <td>0.000119</td>\n",
       "      <td>0.000152</td>\n",
       "      <td>0.000157</td>\n",
       "      <td>0.996508</td>\n",
       "    </tr>\n",
       "    <tr>\n",
       "      <th>'es_leisure'</th>\n",
       "      <td>0.000000</td>\n",
       "      <td>0.0</td>\n",
       "      <td>0.0</td>\n",
       "      <td>0.000000</td>\n",
       "      <td>0.000000</td>\n",
       "      <td>0.0</td>\n",
       "      <td>0.000005</td>\n",
       "      <td>0.000317</td>\n",
       "      <td>0.133501</td>\n",
       "      <td>0.000088</td>\n",
       "    </tr>\n",
       "    <tr>\n",
       "      <th>'es_hotelservices'</th>\n",
       "      <td>0.000000</td>\n",
       "      <td>0.0</td>\n",
       "      <td>0.0</td>\n",
       "      <td>0.008595</td>\n",
       "      <td>0.000000</td>\n",
       "      <td>0.0</td>\n",
       "      <td>0.000104</td>\n",
       "      <td>0.000474</td>\n",
       "      <td>0.240205</td>\n",
       "      <td>0.000288</td>\n",
       "    </tr>\n",
       "    <tr>\n",
       "      <th>'es_home'</th>\n",
       "      <td>0.014415</td>\n",
       "      <td>0.0</td>\n",
       "      <td>0.0</td>\n",
       "      <td>0.000000</td>\n",
       "      <td>0.000000</td>\n",
       "      <td>0.0</td>\n",
       "      <td>0.000034</td>\n",
       "      <td>0.000480</td>\n",
       "      <td>0.141529</td>\n",
       "      <td>0.000186</td>\n",
       "    </tr>\n",
       "    <tr>\n",
       "      <th>'es_tech'</th>\n",
       "      <td>0.000000</td>\n",
       "      <td>0.0</td>\n",
       "      <td>0.0</td>\n",
       "      <td>0.000000</td>\n",
       "      <td>0.025111</td>\n",
       "      <td>0.0</td>\n",
       "      <td>0.000034</td>\n",
       "      <td>0.000740</td>\n",
       "      <td>0.031524</td>\n",
       "      <td>0.000174</td>\n",
       "    </tr>\n",
       "    <tr>\n",
       "      <th>'es_sportsandtoys'</th>\n",
       "      <td>0.000000</td>\n",
       "      <td>0.0</td>\n",
       "      <td>0.0</td>\n",
       "      <td>0.000000</td>\n",
       "      <td>0.000000</td>\n",
       "      <td>0.0</td>\n",
       "      <td>0.000006</td>\n",
       "      <td>0.841299</td>\n",
       "      <td>0.000148</td>\n",
       "      <td>0.000078</td>\n",
       "    </tr>\n",
       "    <tr>\n",
       "      <th>'es_health'</th>\n",
       "      <td>0.005043</td>\n",
       "      <td>0.0</td>\n",
       "      <td>0.0</td>\n",
       "      <td>0.000000</td>\n",
       "      <td>0.005471</td>\n",
       "      <td>1.0</td>\n",
       "      <td>0.007741</td>\n",
       "      <td>0.001237</td>\n",
       "      <td>0.002147</td>\n",
       "      <td>0.000987</td>\n",
       "    </tr>\n",
       "    <tr>\n",
       "      <th>'es_fashion'</th>\n",
       "      <td>0.000000</td>\n",
       "      <td>0.0</td>\n",
       "      <td>0.0</td>\n",
       "      <td>0.000000</td>\n",
       "      <td>0.064518</td>\n",
       "      <td>0.0</td>\n",
       "      <td>0.000206</td>\n",
       "      <td>0.141182</td>\n",
       "      <td>0.000769</td>\n",
       "      <td>0.000381</td>\n",
       "    </tr>\n",
       "    <tr>\n",
       "      <th>'es_food'</th>\n",
       "      <td>0.000610</td>\n",
       "      <td>0.0</td>\n",
       "      <td>0.0</td>\n",
       "      <td>0.000000</td>\n",
       "      <td>0.004106</td>\n",
       "      <td>0.0</td>\n",
       "      <td>0.208998</td>\n",
       "      <td>0.000184</td>\n",
       "      <td>0.000249</td>\n",
       "      <td>0.000157</td>\n",
       "    </tr>\n",
       "    <tr>\n",
       "      <th>'es_travel'</th>\n",
       "      <td>0.000000</td>\n",
       "      <td>0.0</td>\n",
       "      <td>0.0</td>\n",
       "      <td>0.000000</td>\n",
       "      <td>0.000000</td>\n",
       "      <td>0.0</td>\n",
       "      <td>0.000005</td>\n",
       "      <td>0.000245</td>\n",
       "      <td>0.194972</td>\n",
       "      <td>0.000092</td>\n",
       "    </tr>\n",
       "  </tbody>\n",
       "</table>\n",
       "</div>"
      ],
      "text/plain": [
       "                          topic_0  topic_1  topic_2   topic_3   topic_4  \\\n",
       "'es_otherservices'       0.000000      0.0      0.0  0.000000  0.000000   \n",
       "'es_transportation'      0.941652      1.0      0.0  0.902523  0.891067   \n",
       "'es_contents'            0.000000      0.0      0.0  0.000000  0.009726   \n",
       "'es_hyper'               0.000000      0.0      1.0  0.000000  0.000000   \n",
       "'es_barsandrestaurants'  0.000000      0.0      0.0  0.065590  0.000000   \n",
       "'es_wellnessandbeauty'   0.038280      0.0      0.0  0.023292  0.000000   \n",
       "'es_leisure'             0.000000      0.0      0.0  0.000000  0.000000   \n",
       "'es_hotelservices'       0.000000      0.0      0.0  0.008595  0.000000   \n",
       "'es_home'                0.014415      0.0      0.0  0.000000  0.000000   \n",
       "'es_tech'                0.000000      0.0      0.0  0.000000  0.025111   \n",
       "'es_sportsandtoys'       0.000000      0.0      0.0  0.000000  0.000000   \n",
       "'es_health'              0.005043      0.0      0.0  0.000000  0.005471   \n",
       "'es_fashion'             0.000000      0.0      0.0  0.000000  0.064518   \n",
       "'es_food'                0.000610      0.0      0.0  0.000000  0.004106   \n",
       "'es_travel'              0.000000      0.0      0.0  0.000000  0.000000   \n",
       "\n",
       "                         topic_5   topic_6   topic_7   topic_8   topic_9  \n",
       "'es_otherservices'           0.0  0.000006  0.000191  0.244352  0.000098  \n",
       "'es_transportation'          0.0  0.782655  0.000158  0.000174  0.000168  \n",
       "'es_contents'                0.0  0.000064  0.000182  0.000270  0.000134  \n",
       "'es_hyper'                   0.0  0.000014  0.000488  0.000699  0.000262  \n",
       "'es_barsandrestaurants'      0.0  0.000009  0.012670  0.009304  0.000400  \n",
       "'es_wellnessandbeauty'       0.0  0.000119  0.000152  0.000157  0.996508  \n",
       "'es_leisure'                 0.0  0.000005  0.000317  0.133501  0.000088  \n",
       "'es_hotelservices'           0.0  0.000104  0.000474  0.240205  0.000288  \n",
       "'es_home'                    0.0  0.000034  0.000480  0.141529  0.000186  \n",
       "'es_tech'                    0.0  0.000034  0.000740  0.031524  0.000174  \n",
       "'es_sportsandtoys'           0.0  0.000006  0.841299  0.000148  0.000078  \n",
       "'es_health'                  1.0  0.007741  0.001237  0.002147  0.000987  \n",
       "'es_fashion'                 0.0  0.000206  0.141182  0.000769  0.000381  \n",
       "'es_food'                    0.0  0.208998  0.000184  0.000249  0.000157  \n",
       "'es_travel'                  0.0  0.000005  0.000245  0.194972  0.000092  "
      ]
     },
     "execution_count": 16,
     "metadata": {},
     "output_type": "execute_result"
    }
   ],
   "source": [
    "model_artm.get_phi()"
   ]
  },
  {
   "cell_type": "markdown",
   "metadata": {
    "ExecuteTime": {
     "end_time": "2018-08-30T03:17:41.190383Z",
     "start_time": "2018-08-30T03:17:41.134545Z"
    },
    "run_control": {
     "frozen": false,
     "read_only": false
    }
   },
   "source": [
    "Среди тем есть темы, представленные только одним токеном: **topic_1** представляет операции по переводу денежных средств (*es_transportation*), **topic_2** представляет оплаты в гипермаркетах (*es_hyper*), **topic_5** представляет оплаты услуг, связанных со здравоохранением (*es_health*).  \n",
    "В темах **topic_0**, **topic_3**, **topic_4** наблюдается доминирование операций по переводу денежных средств с небольшой долей других операций.  \n",
    "В фоновых темах распределение токенов менее вырожденное. Но данные темы также можно проинтерпретировать. **topic_6** является смесью с доминированием операций по переводу денег и по оплате еды (*es_transportation*, *es_food*). **topic_7** состоит из львиной доли покупок в спортивных магазинах, в магазинах игрушек, в магазинах одежды (*es_sportsandtoys*, *es_fashion*). Тема **topic_8** является наиболее близкой к равномерному распределению, которая может описывать покупки, совершённые в путешествии (*es_otherservices*, *es_leisure*, *es_hotelservices*, *es_home*, *es_travel*). **topic_9** состоит из смеси операций с преобладанием операций по оплате услуг в салонах красоты (*es_wellnessandbeauty*):"
   ]
  },
  {
   "cell_type": "code",
   "execution_count": 18,
   "metadata": {
    "ExecuteTime": {
     "end_time": "2018-08-30T03:18:28.948733Z",
     "start_time": "2018-08-30T03:17:41.194152Z"
    },
    "run_control": {
     "frozen": false,
     "read_only": false
    }
   },
   "outputs": [],
   "source": [
    "ptdw_df = model_artm.transform(batch_vectorizer=bv, theta_matrix_type='dense_ptdw')\n",
    "ptdw_tensor = np.zeros((model_artm.num_topics, cat_cus_matrix.shape[1], cat_cus_matrix.shape[0]), dtype=np.float64)\n",
    "for doc_idx in range(cat_cus_matrix.shape[1]):\n",
    "    for i in range(model_artm.num_topics):\n",
    "        ptdw_tensor[i, doc_idx, np.where(cat_cus_matrix[:, doc_idx] > 0)[0]] = ptdw_df.loc['topic_{}'.format(i),\\\n",
    "                                                                                           doc_idx].as_matrix()"
   ]
  },
  {
   "cell_type": "markdown",
   "metadata": {
    "run_control": {
     "frozen": false,
     "read_only": false
    }
   },
   "source": [
    "Параметры настроенной модели записываются в исходную выборку:"
   ]
  },
  {
   "cell_type": "code",
   "execution_count": null,
   "metadata": {
    "ExecuteTime": {
     "start_time": "2018-08-24T17:55:19.501Z"
    },
    "run_control": {
     "frozen": false,
     "read_only": false
    }
   },
   "outputs": [
    {
     "name": "stderr",
     "output_type": "stream",
     "text": [
      "transactions:  68%|██████▊   | 406348/594643 [19:08:31<8:52:12,  5.90it/s] "
     ]
    }
   ],
   "source": [
    "phi_df = model_artm.get_phi()\n",
    "theta_df = model_artm.get_theta()\n",
    "\n",
    "topic_transactions_dict = {'step': np.zeros(transactions.shape[0], dtype=np.int64),\n",
    "                           'customer': [\"0\"*11 for _ in range(transactions.shape[0])],\n",
    "                           'category': [\"0\"*11 for _ in range(transactions.shape[0])],\n",
    "                           'gender': [\"0\" for _ in range(transactions.shape[0])],\n",
    "                           'age': [\"0\" for _ in range(transactions.shape[0])],\n",
    "                           'merchant': [\"0\"*11 for _ in range(transactions.shape[0])],\n",
    "                           'fraud': np.zeros(transactions.shape[0], dtype=np.int64),\n",
    "                           'amount': np.zeros(transactions.shape[0], dtype=np.float64)}\n",
    "for i in range(model_artm.num_topics):\n",
    "    topic_transactions_dict['t_%i|dw'%i] = np.zeros(transactions.shape[0], dtype=np.float64)\n",
    "    topic_transactions_dict['t_%i|d'%i] = np.zeros(transactions.shape[0], dtype=np.float64)\n",
    "    topic_transactions_dict['w|t_%i'%i] = np.zeros(transactions.shape[0], dtype=np.float64)\n",
    "topic_transactions = pd.DataFrame(topic_transactions_dict)\n",
    "del topic_transactions_dict\n",
    "\n",
    "for row_idx in tqdm(range(transactions.shape[0]), desc='transactions'):\n",
    "    topic_transactions.loc[row_idx, 'category'] = transactions.loc[row_idx, 'category']\n",
    "    topic_transactions.loc[row_idx, 'customer'] = transactions.loc[row_idx, 'customer']\n",
    "    topic_transactions.loc[row_idx, 'step'] = transactions.loc[row_idx, 'step']\n",
    "    topic_transactions.loc[row_idx, 'gender'] = transactions.loc[row_idx, 'gender']\n",
    "    topic_transactions.loc[row_idx, 'age'] = transactions.loc[row_idx, 'age']\n",
    "    topic_transactions.loc[row_idx, 'merchant'] = transactions.loc[row_idx, 'merchant']\n",
    "    topic_transactions.loc[row_idx, 'fraud'] = transactions.loc[row_idx, 'fraud']\n",
    "    topic_transactions.loc[row_idx, 'amount'] = transactions.loc[row_idx, 'amount']\n",
    "    for i in range(model_artm.num_topics):\n",
    "        topic_transactions.loc[row_idx, 't_%i|dw'%i] = ptdw_tensor[i,\n",
    "                                                           customer_mapping[transactions.loc[row_idx, 'customer']],\n",
    "                                                           category_mapping[transactions.loc[row_idx, 'category']]]\n",
    "        topic_transactions.loc[row_idx, 't_%i|d'%i] = theta_df.loc['topic_%i'%i,\n",
    "                                                           customer_mapping[transactions.loc[row_idx, 'customer']]]\n",
    "        topic_transactions.loc[row_idx, 'w|t_%i'%i] = phi_df.loc[transactions.loc[row_idx, 'category'],\n",
    "                                                                 'topic_%i'%i]"
   ]
  },
  {
   "cell_type": "markdown",
   "metadata": {
    "run_control": {
     "frozen": false,
     "read_only": false
    }
   },
   "source": [
    "Сохранение изменённой выборки в файл:"
   ]
  },
  {
   "cell_type": "code",
   "execution_count": null,
   "metadata": {
    "ExecuteTime": {
     "start_time": "2018-08-24T17:55:20.055Z"
    },
    "run_control": {
     "frozen": false,
     "read_only": false
    }
   },
   "outputs": [],
   "source": [
    "topic_transactions.to_csv('bs140513_032310_topic.csv', index=False)"
   ]
  },
  {
   "cell_type": "markdown",
   "metadata": {
    "run_control": {
     "frozen": false,
     "read_only": false
    }
   },
   "source": [
    "Загрузка изменённой выборки в оперативную память:"
   ]
  },
  {
   "cell_type": "code",
   "execution_count": 19,
   "metadata": {
    "ExecuteTime": {
     "end_time": "2018-08-30T03:18:33.369667Z",
     "start_time": "2018-08-30T03:18:28.950435Z"
    },
    "run_control": {
     "frozen": false,
     "read_only": false
    }
   },
   "outputs": [],
   "source": [
    "topic_transactions = pd.read_csv('bs140513_032310_topic.csv')"
   ]
  },
  {
   "cell_type": "markdown",
   "metadata": {
    "run_control": {
     "frozen": false,
     "read_only": false
    }
   },
   "source": [
    "Разделение изменённой выборки по клиентам для последующей визуализации:"
   ]
  },
  {
   "cell_type": "code",
   "execution_count": 20,
   "metadata": {
    "ExecuteTime": {
     "end_time": "2018-08-30T03:18:38.371686Z",
     "start_time": "2018-08-30T03:18:33.371274Z"
    },
    "run_control": {
     "frozen": false,
     "read_only": false
    }
   },
   "outputs": [],
   "source": [
    "grouped_topic_transactions = topic_transactions.groupby('customer').apply(\\\n",
    "                             lambda x: x.sort_values(['step'])).reset_index(drop=True).groupby('customer')"
   ]
  },
  {
   "cell_type": "markdown",
   "metadata": {
    "run_control": {
     "frozen": false,
     "read_only": false
    }
   },
   "source": [
    "Сохранение полученных подвыборок в файлы для визуализации операций каждого клиента в отдельности:"
   ]
  },
  {
   "cell_type": "code",
   "execution_count": 21,
   "metadata": {
    "ExecuteTime": {
     "end_time": "2018-08-30T03:19:03.448634Z",
     "start_time": "2018-08-30T03:18:38.373600Z"
    },
    "run_control": {
     "frozen": false,
     "read_only": false
    }
   },
   "outputs": [],
   "source": [
    "for customer, _ in grouped_topic_transactions.groups.items():\n",
    "    grouped_topic_transactions.get_group(customer).to_csv('./documents/%s.csv'%customer, index=False)"
   ]
  },
  {
   "cell_type": "code",
   "execution_count": null,
   "metadata": {
    "run_control": {
     "frozen": false,
     "read_only": false
    }
   },
   "outputs": [],
   "source": []
  }
 ],
 "metadata": {
  "kernelspec": {
   "display_name": "Python 3",
   "language": "python",
   "name": "python3"
  },
  "language_info": {
   "codemirror_mode": {
    "name": "ipython",
    "version": 3
   },
   "file_extension": ".py",
   "mimetype": "text/x-python",
   "name": "python",
   "nbconvert_exporter": "python",
   "pygments_lexer": "ipython3",
   "version": "3.5.2"
  }
 },
 "nbformat": 4,
 "nbformat_minor": 2
}
